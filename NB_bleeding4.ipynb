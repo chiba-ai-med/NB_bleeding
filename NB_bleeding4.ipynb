{
  "nbformat": 4,
  "nbformat_minor": 0,
  "metadata": {
    "colab": {
      "provenance": []
    },
    "kernelspec": {
      "name": "python3",
      "display_name": "Python 3"
    },
    "language_info": {
      "name": "python"
    }
  },
  "cells": [
    {
      "cell_type": "code",
      "execution_count": null,
      "metadata": {
        "id": "DnXcBWguKO-Q"
      },
      "outputs": [],
      "source": []
    },
    {
      "cell_type": "markdown",
      "source": [
        "################################################################################\n",
        "#\n",
        "# 動的予測モデルとベースラインモデルの性能比較分析\n",
        "#\n",
        "# --- 概要 ---\n",
        "# 本スクリプトは、個人の経時的データを用いて翌日のイベント発生を予測するため、\n",
        "# 4種類の機械学習モデルを構築し、その予測性能を5分割交差検証（5-Fold CV）によって比較します。\n",
        "# --- 比較対象モデル ---\n",
        "# 1. DynNB_Personalized  : 逐次ベイズ更新を行う、一貫性のある動的モデル\n",
        "# 2. DynNB_Personalized2 : Day0のみRFのみで予測、その後更新型の動的モデル\n",
        "# 3. NB_daywise          : 各日を独立に扱う、シンプルなナイーブベイズのベースライン\n",
        "# 4. RF_daywise          : 各日を独立に扱う、シンプルなランダムフォレストのベースライン\n",
        "\n",
        "# ==============================================================================\n",
        "# セクション1：環境設定\n",
        "# ==============================================================================\n",
        "# 既存の変数を全て削除し、クリーンな状態から開始"
      ],
      "metadata": {
        "id": "AeWNcPBUKRUg"
      }
    },
    {
      "cell_type": "code",
      "source": [
        "rm(list = ls())"
      ],
      "metadata": {
        "id": "T4Dbg-8KKXew"
      },
      "execution_count": null,
      "outputs": []
    },
    {
      "cell_type": "markdown",
      "source": [
        "# --- 必要なパッケージの読み込み ---\n",
        "# 初回実行時は、以下のコメントを外してパッケージをインストールしてください\n",
        "# install.packages(c(\"dplyr\", \"tidyr\", \"purrr\", \"e1071\", \"pROC\", \"caret\", \"ggplot2\", \"tibble\", \"randomForest\", \"rlang\"))"
      ],
      "metadata": {
        "id": "dEPXUFm6Kcg6"
      }
    },
    {
      "cell_type": "code",
      "source": [
        "suppressPackageStartupMessages({\n",
        "  library(dplyr)\n",
        "  library(tidyr)\n",
        "  library(purrr)\n",
        "  library(e1071)\n",
        "  library(pROC)\n",
        "  library(caret)\n",
        "  library(ggplot2)\n",
        "  library(tibble)\n",
        "  library(randomForest)\n",
        "  library(rlang)      # `rlang::` を明示的に使うため\n",
        "})"
      ],
      "metadata": {
        "id": "FFEqAM_SKg_z"
      },
      "execution_count": null,
      "outputs": []
    },
    {
      "cell_type": "markdown",
      "source": [
        "# ==============================================================================\n",
        "# セクション2：データ準備\n",
        "# ==============================================================================\n",
        "# 生データを読み込み、モデルが学習可能な形に整形します。\n",
        "# この前処理が、分析の論理的な一貫性を保証する上で最も重要です。\n",
        "\n",
        "# --- 2.1. データの読み込み ---"
      ],
      "metadata": {
        "id": "lVTRIo_iKjh5"
      }
    },
    {
      "cell_type": "code",
      "source": [
        "NB_bleeding <- read.csv(\"NB_bleeding_demo.csv\") %>%\n",
        "  arrange(id, day)"
      ],
      "metadata": {
        "id": "ydQFY9QcKoMr"
      },
      "execution_count": null,
      "outputs": []
    },
    {
      "cell_type": "markdown",
      "source": [
        "# --- 2.2. ベースデータセットの作成 ---\n",
        "# 全ての計算済み列（daily_event, status_next, y_prev）を含むデータセット。\n",
        "# この段階では、まだNAを含む行は削除しません。"
      ],
      "metadata": {
        "id": "VWtg31OlKql5"
      }
    },
    {
      "cell_type": "code",
      "source": [
        "NB_bleeding_base <- NB_bleeding %>%\n",
        "  filter(day <= 6) %>%\n",
        "  group_by(id) %>%\n",
        "  mutate(\n",
        "    # 「status=1の患者の最終観察日にイベントが発生する」というルールに基づき、\n",
        "    # 「その日にイベントが起きたか」を示す daily_event (0/1) を作成します。\n",
        "    daily_event = if_else(status == 1 & day == max(day), 1, 0),\n",
        "\n",
        "    # 翌日のイベント有無を示す目的変数 status_next を作成します。\n",
        "    # Day t の行には、Day t+1 の daily_event の値が入ります。\n",
        "    status_next = lead(daily_event),\n",
        "\n",
        "    # 前日のイベント有無を示す説明変数 y_prev を作成します。\n",
        "    y_prev = lag(daily_event)\n",
        "  ) %>%\n",
        "  ungroup()"
      ],
      "metadata": {
        "id": "uK2Iqn_dKtqJ"
      },
      "execution_count": null,
      "outputs": []
    },
    {
      "cell_type": "markdown",
      "source": [
        "# ==============================================================================\n",
        "# セクション3：グローバル変数とパラメータの設定\n",
        "# ==============================================================================\n",
        "\n",
        "# --- 3.1. 説明変数リストの定義 ---"
      ],
      "metadata": {
        "id": "DfrWsgjoKyE-"
      }
    },
    {
      "cell_type": "code",
      "source": [
        "static_vars  <- names(NB_bleeding)[which(names(NB_bleeding) == \"age\"):\n",
        "                                     which(names(NB_bleeding) == \"main_disease\")]\n",
        "dynamic_vars <- names(NB_bleeding)[which(names(NB_bleeding) == \"wbc\"):\n",
        "                                     which(names(NB_bleeding) == \"gtp\")]\n",
        "all_vars <- c(static_vars, dynamic_vars)\n",
        "small        <- 1e-6\n",
        "\n",
        "categorical_vars_in_static <- c(\"sex\", \"main_disease\")\n",
        "NB_bleeding_base[categorical_vars_in_static] <- lapply(NB_bleeding_base[categorical_vars_in_static], factor)\n"
      ],
      "metadata": {
        "id": "WzPFVP5iK2pE"
      },
      "execution_count": null,
      "outputs": []
    },
    {
      "cell_type": "markdown",
      "source": [
        "# ==============================================================================\n",
        "# セクション4：ヘルパー関数群\n",
        "# ==============================================================================\n",
        "# 分析の本体で繰り返し使われる処理を、関数としてまとめて定義します。\n",
        "\n",
        "# 条件付き統計量（平均・SD）を計算"
      ],
      "metadata": {
        "id": "bk7vfgnDLFpT"
      }
    },
    {
      "cell_type": "code",
      "source": [
        "get_conditional_stats <- function(df, vars){\n",
        "  `%||%` <- rlang::`%||%`\n",
        "  map(vars, function(v) {\n",
        "    g <- df %>% filter(!is.na(.data[[v]]), !is.na(status_next)) %>%\n",
        "      group_by(status_next) %>%\n",
        "      summarise(mu = mean(.data[[v]]), sd = sd(.data[[v]]), .groups = \"drop\")\n",
        "    list(\n",
        "      mean1 = g$mu[g$status_next==1][1] %||% NA_real_,\n",
        "      sd1   = g$sd[g$status_next==1][1] %||% NA_real_,\n",
        "      mean0 = g$mu[g$status_next==0][1] %||% NA_real_,\n",
        "      sd0   = g$sd[g$status_next==0][1] %||% NA_real_\n",
        "    )\n",
        "  }) %>% setNames(vars)\n",
        "}"
      ],
      "metadata": {
        "id": "Jlr8WLTuLKe1"
      },
      "execution_count": null,
      "outputs": []
    },
    {
      "cell_type": "markdown",
      "source": [
        "# 1日分のデータから対数尤度比 (delta) を計算"
      ],
      "metadata": {
        "id": "BY12YE7CLQdd"
      }
    },
    {
      "cell_type": "code",
      "source": [
        "compute_log_likelihood_ratio <- function(row, stats){\n",
        "  reduce(names(stats), .init = 0, function(acc, v) {\n",
        "    s <- stats[[v]]; x <- row[[v]]\n",
        "    if(!is.na(x) && !is.na(s$mean1) && !is.na(s$mean0)){\n",
        "      sd1 <- max(s$sd1, small, na.rm = TRUE); sd0 <- max(s$sd0, small, na.rm = TRUE)\n",
        "      acc + dnorm(x, s$mean1, sd1, log=TRUE) - dnorm(x, s$mean0, sd0, log=TRUE)\n",
        "    } else { acc }\n",
        "  })\n",
        "}"
      ],
      "metadata": {
        "id": "5Szc__sFLT1x"
      },
      "execution_count": null,
      "outputs": []
    },
    {
      "cell_type": "markdown",
      "source": [
        "# 安全なAUROC計算"
      ],
      "metadata": {
        "id": "YV5qTLoWLWOy"
      }
    },
    {
      "cell_type": "code",
      "source": [
        "safe_auc <- function(truth, prob){\n",
        "  truth <- if(is.factor(truth)) as.numeric(as.character(truth)) else truth\n",
        "  if(length(unique(truth)) < 2) return(NA_real_)\n",
        "  tryCatch({\n",
        "    as.numeric(pROC::auc(truth, prob, quiet = TRUE, levels = c(0,1), direction = \"<\"))\n",
        "  }, error = function(e) NA_real_)\n",
        "}"
      ],
      "metadata": {
        "id": "ZPR0X8fILX8M"
      },
      "execution_count": null,
      "outputs": []
    },
    {
      "cell_type": "markdown",
      "source": [
        "# Day-wise Naive Bayes, Day-wise Random forestモデルの学習と評価"
      ],
      "metadata": {
        "id": "yhdvLB8TLZsF"
      }
    },
    {
      "cell_type": "markdown",
      "source": [],
      "metadata": {
        "id": "XGMuQqoULe9g"
      }
    },
    {
      "cell_type": "code",
      "source": [
        "train_nb_daywise <- function(train_df, test_df, vars){\n",
        "  train_df <- train_df %>% select(all_of(vars), status_next) %>% na.omit()\n",
        "  test_df  <- test_df  %>% select(all_of(vars), status_next) %>% na.omit()\n",
        "  if(nrow(train_df)<10 || length(unique(train_df$status_next))<2 || nrow(test_df)<2) return(NA_real_)\n",
        "  mdl <- naiveBayes(status_next ~ ., data = train_df %>% mutate(status_next=factor(status_next)))\n",
        "  preds <- predict(mdl, test_df, type=\"raw\")[,\"1\"]\n",
        "  safe_auc(test_df$status_next, preds)\n",
        "}\n",
        "\n",
        "train_rf_daywise <- function(train_df, test_df, vars){\n",
        "  train_df <- train_df %>% select(all_of(vars), status_next) %>% na.omit()\n",
        "  test_df  <- test_df  %>% select(all_of(vars), status_next) %>% na.omit()\n",
        "  if(nrow(train_df) < 10 || length(unique(train_df$status_next)) < 2 || nrow(test_df) < 2) return(NA_real_)\n",
        "  mdl <- randomForest(factor(status_next) ~ ., data = train_df, ntree = 100)\n",
        "  preds <- predict(mdl, newdata = test_df, type = \"prob\")[, \"1\"]\n",
        "  safe_auc(test_df$status_next, preds)\n",
        "}"
      ],
      "metadata": {
        "id": "OI_OlpVYLfWb"
      },
      "execution_count": null,
      "outputs": []
    },
    {
      "cell_type": "markdown",
      "source": [
        "# DynNB_Personalized モデルの予測適用関数"
      ],
      "metadata": {
        "id": "ZYDG-CeVLjTH"
      }
    },
    {
      "cell_type": "code",
      "source": [
        "apply_full_personalized_filter <- function(data, rf_initial_model, rf_transition_model, cond_stats, static_vars, all_vars) {\n",
        "  data %>% arrange(id, day) %>%\n",
        "    group_by(id) %>%\n",
        "    mutate(\n",
        "      score_dyn_personalized = {\n",
        "        n_days <- n()\n",
        "        scores <- numeric(n_days)\n",
        "        day0_data_for_pred <- cur_data()[1, all_vars, drop = FALSE]\n",
        "        patient_static_data <- cur_data()[1, static_vars, drop = FALSE]\n",
        "        prob_init <- predict(rf_initial_model, newdata = day0_data_for_pred, type = \"prob\")[, \"1\"]\n",
        "        logit_prev <- log(prob_init / (1 - prob_init))\n",
        "        for (i in seq_len(n_days)) {\n",
        "          y_prev_factor <- factor(round(plogis(logit_prev)), levels = c(\"0\", \"1\"))\n",
        "          rf_trans_input <- cbind(y_prev = y_prev_factor, patient_static_data)\n",
        "          prior_t <- predict(rf_transition_model, newdata = rf_trans_input, type = \"prob\")[, \"1\"]\n",
        "          logit_trans <- log(prior_t / (1 - prior_t))\n",
        "          delta <- compute_log_likelihood_ratio(cur_data()[i, ], cond_stats)\n",
        "          logit_now <- logit_trans + delta\n",
        "          scores[i] <- logit_now\n",
        "          logit_prev <- logit_now\n",
        "        }\n",
        "        scores\n",
        "      },\n",
        "      prob_dyn_personalized = plogis(score_dyn_personalized)\n",
        "    ) %>%\n",
        "    ungroup()\n",
        "}"
      ],
      "metadata": {
        "id": "QqYk0E-LLl_R"
      },
      "execution_count": null,
      "outputs": []
    },
    {
      "cell_type": "markdown",
      "source": [
        "# DynNB_Personalized2 モデルの予測適用関数"
      ],
      "metadata": {
        "id": "aw1BbqCjLpki"
      }
    },
    {
      "cell_type": "code",
      "source": [
        "apply_dynnb_personalized2 <- function(data, rf_initial_model, rf_transition_model, cond_stats, static_vars, all_vars) {\n",
        "  data %>% arrange(id, day) %>%\n",
        "    group_by(id) %>%\n",
        "    mutate(\n",
        "      score_dyn_p2 = {\n",
        "        n_days <- n()\n",
        "        scores <- numeric(n_days)\n",
        "        day0_data_for_pred <- cur_data()[1, all_vars, drop = FALSE]\n",
        "        patient_static_data <- cur_data()[1, static_vars, drop = FALSE]\n",
        "        prob_init <- predict(rf_initial_model, newdata = day0_data_for_pred, type = \"prob\")[, \"1\"]\n",
        "        logit_prev <- log(prob_init / (1 - prob_init))\n",
        "        for (i in seq_len(n_days)) {\n",
        "          if (i == 1) {\n",
        "            logit_now <- logit_prev\n",
        "          } else {\n",
        "            y_prev_factor <- factor(round(plogis(logit_prev)), levels = c(\"0\", \"1\"))\n",
        "            rf_trans_input <- cbind(y_prev = y_prev_factor, patient_static_data)\n",
        "            prior_t <- predict(rf_transition_model, newdata = rf_trans_input, type = \"prob\")[, \"1\"]\n",
        "            logit_trans <- log(prior_t / (1 - prior_t))\n",
        "            delta <- compute_log_likelihood_ratio(cur_data()[i, ], cond_stats)\n",
        "            logit_now <- logit_trans + delta\n",
        "          }\n",
        "          scores[i] <- logit_now\n",
        "          logit_prev <- logit_now\n",
        "        }\n",
        "        scores\n",
        "      },\n",
        "      prob_dyn_p2 = plogis(score_dyn_p2)\n",
        "    ) %>%\n",
        "    ungroup()\n",
        "}"
      ],
      "metadata": {
        "id": "aypRskjKLrOt"
      },
      "execution_count": null,
      "outputs": []
    },
    {
      "cell_type": "markdown",
      "source": [
        "# ==============================================================================\n",
        "# セクション5：5分割交差検証によるモデル評価\n",
        "# =============================================================================="
      ],
      "metadata": {
        "id": "TLxBxoN5Lttf"
      }
    },
    {
      "cell_type": "code",
      "source": [
        "set.seed(12345) # 再現性のために乱数シードを固定\n",
        "k <- 5\n",
        "folds <- createFolds(unique(NB_bleeding_base$id), k = k)\n",
        "\n",
        "# 結果を格納するリストを準備\n",
        "res_dyn_p <- list(); res_dyn_p2 <- list(); res_nb <- list(); res_rf_dw <- list()\n",
        "\n",
        "message(sprintf(\"Running Final Corrected 5-Fold Cross-Validation with 4 models...\", k))\n",
        "\n",
        "for(f in seq_along(folds)){\n",
        "  message(sprintf(\"Processing Fold %d/%d...\", f, k))\n",
        "\n",
        "  test_ids  <- unique(NB_bleeding_base$id)[folds[[f]]]\n",
        "  train_ids <- setdiff(unique(NB_bleeding_base$id), test_ids)\n",
        "\n",
        "  # --- 5.1. 用途別のデータ準備 ---\n",
        "  # ベースデータ（NAあり）と、クリーンなデータ（NAなし）を準備\n",
        "  train_data_base <- NB_bleeding_base %>% filter(id %in% train_ids)\n",
        "  test_data_base  <- NB_bleeding_base %>% filter(id %in% test_ids)\n",
        "  train_data <- train_data_base %>% filter(!is.na(status_next))\n",
        "  test_data  <- test_data_base  %>% filter(!is.na(status_next))\n",
        "\n",
        "  # --- 5.2. 動的モデル用のコンポーネント学習 ---\n",
        "  rf_initial <- NULL; rf_transition <- NULL; st <- NULL\n",
        "\n",
        "  train_initial_data <- train_data %>% filter(day == 0) %>% select(all_of(all_vars), status_next)\n",
        "  train_transition_data <- train_data_base %>% filter(!is.na(y_prev)) %>% select(all_of(static_vars), y_prev, daily_event)\n",
        "\n",
        "  # 学習データに陽性・陰性例が両方あるかチェックする「ガード節」\n",
        "  if (length(unique(train_initial_data$status_next)) < 2 || length(unique(train_transition_data$daily_event)) < 2) {\n",
        "    message(sprintf(\"Skipping dynamic models in Fold %d: Not enough classes for training.\", f))\n",
        "  } else {\n",
        "    # 条件を満たす場合のみ、コンポーネントを学習\n",
        "    rf_initial <- randomForest(factor(status_next) ~ ., data = train_initial_data, ntree = 100)\n",
        "    train_transition_data$y_prev <- factor(train_transition_data$y_prev, levels = c(\"0\", \"1\"))\n",
        "    rf_transition <- randomForest(factor(daily_event) ~ ., data = train_transition_data, ntree = 100)\n",
        "    st <- get_conditional_stats(train_data, dynamic_vars)\n",
        "  }\n",
        "\n",
        "  # --- 5.3. 各モデルの予測と評価 ---\n",
        "\n",
        "  # 2a & 2b. 動的モデル群の評価\n",
        "  if (!is.null(rf_initial)) {\n",
        "    # 2a. DynNB_Personalized\n",
        "    pred_dyn_p <- apply_full_personalized_filter(test_data, rf_initial, rf_transition, st, static_vars, all_vars)\n",
        "    auc_dyn_p <- pred_dyn_p %>% group_by(day) %>%\n",
        "      summarise(AUROC = safe_auc(status_next, prob_dyn_personalized), .groups=\"drop\") %>%\n",
        "      mutate(fold = f, model = \"DynNB_Personalized\")\n",
        "    res_dyn_p[[f]] <- auc_dyn_p\n",
        "\n",
        "    # 2b. DynNB_Personalized2\n",
        "    pred_dyn_p2 <- apply_dynnb_personalized2(test_data, rf_initial, rf_transition, st, static_vars, all_vars)\n",
        "    auc_dyn_p2 <- pred_dyn_p2 %>% group_by(day) %>%\n",
        "      summarise(AUROC = safe_auc(status_next, prob_dyn_p2), .groups=\"drop\") %>%\n",
        "      mutate(fold = f, model = \"DynNB_Personalized2\")\n",
        "    res_dyn_p2[[f]] <- auc_dyn_p2\n",
        "  }\n",
        "\n",
        "  # 2c. NB_daywise\n",
        "  auc_nb <- map_dfr(unique(train_data$day), function(d) {\n",
        "    train_d <- train_data %>% filter(day == d); test_d  <- test_data  %>% filter(day == d)\n",
        "    tibble(day = d, AUROC = train_nb_daywise(train_d, test_d, all_vars))\n",
        "  }) %>% mutate(fold = f, model = \"NB_daywise\")\n",
        "  res_nb[[f]] <- auc_nb\n",
        "\n",
        "  # 2d. RF_daywise\n",
        "  auc_rf_dw <- map_dfr(unique(train_data$day), function(d) {\n",
        "    train_d <- train_data %>% filter(day == d); test_d  <- test_data  %>% filter(day == d)\n",
        "    tibble(day = d, AUROC = train_rf_daywise(train_d, test_d, all_vars))\n",
        "  }) %>% mutate(fold = f, model = \"RF_daywise\")\n",
        "  res_rf_dw[[f]] <- auc_rf_dw\n",
        "}\n",
        "\n",
        "message(\"Cross-Validation finished.\")"
      ],
      "metadata": {
        "id": "pySJ2xPiLxuc"
      },
      "execution_count": null,
      "outputs": []
    },
    {
      "cell_type": "markdown",
      "source": [
        "# ==============================================================================\n",
        "# セクション6：結果の集計と可視化\n",
        "# ==============================================================================\n",
        "\n",
        "# --- 6.1. 結果の集計 ---\n",
        "# 5回のCVの結果を全て結合し、モデルごと・日ごとに平均AUROCと標準偏差を計算"
      ],
      "metadata": {
        "id": "1u_Ma1rbL-HF"
      }
    },
    {
      "cell_type": "markdown",
      "source": [],
      "metadata": {
        "id": "V4gPnSHpMBFJ"
      }
    },
    {
      "cell_type": "code",
      "source": [
        "cv_results <- bind_rows(res_dyn_p, res_dyn_p2, res_nb, res_rf_dw)\n",
        "\n",
        "agg_results <- cv_results %>%\n",
        "  group_by(model, day) %>%\n",
        "  summarise(\n",
        "    mean_AUROC = mean(AUROC, na.rm = TRUE),\n",
        "    sd_AUROC   = sd(AUROC, na.rm = TRUE),\n",
        "    .groups = \"drop\"\n",
        "  )\n",
        "\n",
        "print(\"Aggregated AUROC Results:\")\n",
        "print(agg_results)"
      ],
      "metadata": {
        "id": "QsHUx85ZMBd9"
      },
      "execution_count": null,
      "outputs": []
    },
    {
      "cell_type": "markdown",
      "source": [
        "# --- 6.2. グラフの描画 ---\n",
        "# 集計結果をプロットし、4モデルの性能を視覚的に比較"
      ],
      "metadata": {
        "id": "Ky2UcrpHMDpD"
      }
    },
    {
      "cell_type": "code",
      "source": [
        "ggplot(agg_results, aes(x = day, y = mean_AUROC, color = model, group = model)) +\n",
        "  geom_line(linewidth = 0.8) +\n",
        "  geom_point(size = 2.5) +\n",
        "  geom_errorbar(\n",
        "    aes(ymin = mean_AUROC - sd_AUROC, ymax = mean_AUROC + sd_AUROC),\n",
        "    width = 0.2, alpha = 0.7\n",
        "  ) +\n",
        "  scale_y_continuous(limits = c(0.4, 1.0), breaks = seq(0.4, 1, 0.1)) +\n",
        "  scale_x_continuous(breaks = 0:max(agg_results$day)) +\n",
        "  labs(\n",
        "    title = \"5-Fold CV: Model Comparison\",\n",
        "    subtitle = \"AUROC by Day\",\n",
        "    x = \"Day\",\n",
        "    y = \"Mean AUROC (±1 SD)\",\n",
        "    color = \"Model\"\n",
        "  ) +\n",
        "  theme_minimal(base_size = 14) +\n",
        "  theme(\n",
        "    plot.title = element_text(face = \"bold\"),\n",
        "    legend.position = \"bottom\"\n",
        "  )"
      ],
      "metadata": {
        "id": "k09nuHOdMFoP"
      },
      "execution_count": null,
      "outputs": []
    },
    {
      "cell_type": "markdown",
      "source": [],
      "metadata": {
        "id": "c7wO_lRYMIjw"
      }
    },
    {
      "cell_type": "markdown",
      "source": [],
      "metadata": {
        "id": "GyfdjRkXL3j9"
      }
    }
  ]
}